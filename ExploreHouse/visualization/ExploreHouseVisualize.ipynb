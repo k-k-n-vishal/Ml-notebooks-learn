{
 "cells": [
  {
   "cell_type": "markdown",
   "source": [
    "## House price prediction dataset Visualization template\n",
    "1.   Raw-template to visulize the data before building algorithms\n",
    "2.   Before using this template in genral remove the use less data features in the data for E.g. **id** is the feature which is used while logging the data."
   ],
   "metadata": {}
  },
  {
   "cell_type": "markdown",
   "source": [
    "## Importing the basic libraries"
   ],
   "metadata": {}
  },
  {
   "cell_type": "code",
   "execution_count": null,
   "source": [
    "import numpy as np\n",
    "import pandas as pd\n",
    "import seaborn as sns\n",
    "import matplotlib.pyplot as plt"
   ],
   "outputs": [],
   "metadata": {}
  },
  {
   "cell_type": "markdown",
   "source": [
    "## Loading Dataset"
   ],
   "metadata": {}
  },
  {
   "cell_type": "code",
   "execution_count": null,
   "source": [
    "df = pd.read_csv('kc_house_data.csv')\n",
    "df.head()"
   ],
   "outputs": [],
   "metadata": {}
  },
  {
   "cell_type": "markdown",
   "source": [
    "## Check for null values"
   ],
   "metadata": {}
  },
  {
   "cell_type": "code",
   "execution_count": null,
   "source": [
    "print(\"Check for null values\")\n",
    "df.isnull().sum()"
   ],
   "outputs": [],
   "metadata": {}
  },
  {
   "cell_type": "markdown",
   "source": [
    "## **Plotting diffrent plots fot visualization**\n",
    "\n",
    "\n",
    "1.   Histogram for variable distribution\n",
    "2.   Line plot for analyzing the relation between **Price** vs others\n",
    "\n",
    "1.   RegPlot to deeply visualize the liner relation between **Price** vs other \n",
    "2.   Box plot to visualize the **OUTLIERS** and also viualize the data distribution in diffrent way"
   ],
   "metadata": {}
  },
  {
   "cell_type": "markdown",
   "source": [
    "## **Plain Scatter plot**"
   ],
   "metadata": {}
  },
  {
   "cell_type": "code",
   "execution_count": null,
   "source": [
    "total_columns = df.columns"
   ],
   "outputs": [],
   "metadata": {}
  },
  {
   "cell_type": "code",
   "execution_count": null,
   "source": [
    "for f in total_columns:\n",
    "    plt.figure(figsize=(15, 9))\n",
    "    plt.scatter(df[f], df['price'])\n",
    "    plt.xlabel(f)\n",
    "    plt.ylabel('price')\n",
    "    plt.show()"
   ],
   "outputs": [],
   "metadata": {}
  },
  {
   "cell_type": "markdown",
   "source": [
    "## **Histogram plot**"
   ],
   "metadata": {}
  },
  {
   "cell_type": "code",
   "execution_count": null,
   "source": [
    "for k in total_columns:\n",
    "  plt.figure(figsize=(10,6))\n",
    "  sns.histplot(data=df, x=k, kde=True, bins=50)"
   ],
   "outputs": [],
   "metadata": {}
  },
  {
   "cell_type": "markdown",
   "source": [
    "## **Line plot**"
   ],
   "metadata": {}
  },
  {
   "cell_type": "code",
   "execution_count": null,
   "source": [
    "for k in total_columns:\n",
    "  plt.figure(figsize=(10,6))\n",
    "  sns.lineplot(x=k, y='price', data=df)"
   ],
   "outputs": [],
   "metadata": {}
  },
  {
   "cell_type": "markdown",
   "source": [
    "## **Reg plot**"
   ],
   "metadata": {}
  },
  {
   "cell_type": "code",
   "execution_count": null,
   "source": [
    "for k in total_columns:\n",
    "  plt.figure(figsize=(10,6))\n",
    "  sns.regplot(x=k, y='price', data=df)"
   ],
   "outputs": [],
   "metadata": {}
  },
  {
   "cell_type": "markdown",
   "source": [
    "## **Box plot**"
   ],
   "metadata": {}
  },
  {
   "cell_type": "code",
   "execution_count": null,
   "source": [
    "for c in total_columns:\n",
    "  plt.figure(figsize=(15,8))\n",
    "  sns.boxplot(data=df, x=c)"
   ],
   "outputs": [],
   "metadata": {}
  }
 ],
 "metadata": {
  "orig_nbformat": 4,
  "language_info": {
   "name": "python"
  }
 },
 "nbformat": 4,
 "nbformat_minor": 2
}